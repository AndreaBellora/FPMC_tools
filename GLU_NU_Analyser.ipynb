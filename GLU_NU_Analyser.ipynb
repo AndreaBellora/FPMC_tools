{
 "cells": [
  {
   "cell_type": "code",
   "execution_count": 64,
   "metadata": {},
   "outputs": [],
   "source": [
    "import uproot\n",
    "import sys\n",
    "import os\n",
    "import pandas as pd\n",
    "import numpy as np\n",
    "import matplotlib.pyplot as plt"
   ]
  },
  {
   "cell_type": "code",
   "execution_count": 65,
   "metadata": {},
   "outputs": [],
   "source": [
    "def ttbar_plot(log_number, plot_type, ax = None, plot_label = \"\", normalize = False):\n",
    "    \"\"\"\n",
    "    Plot some useful quantities:\n",
    "        nParticles: number of particles in the event\n",
    "        m_tt: mass of the generated ttbar system\n",
    "        m_total: mass of the central system (from generated protons)\n",
    "        m_frac: m_tt/m_total\n",
    "    \"\"\"\n",
    "    summaryfile_path = \"LOG/\"+str(log_number)+\"/\"\n",
    "    rootfile_path = \"ROOT/\"+str(log_number)+\"/\"\n",
    "    rootfile_filepath = rootfile_path+os.listdir(rootfile_path)[0]\n",
    "    rootfile = uproot.open(rootfile_filepath)\n",
    "    \n",
    "    lumiTot = 300 #fb^-1\n",
    "    sqrt_s = 0 #GeV\n",
    "    xsec = 0 #fb\n",
    "    with open(summaryfile_path+\"Summary.txt\") as dc:\n",
    "            for line in dc: \n",
    "                if line.startswith(\"ECMS\"):\n",
    "                    sqrt_s = float(line.split()[1])\n",
    "                if line.startswith(\" Cross\"):\n",
    "                    xsec = float(line.split()[2]) * 1000 #transform in fb\n",
    "                    \n",
    "    events = rootfile[\"LHEF\"]\n",
    "    branchlist = [\n",
    "     'Particle.PID',\n",
    "     'Particle.Px',\n",
    "     'Particle.Py',\n",
    "     'Particle.Pz',\n",
    "     'Particle.E',\n",
    "     'Particle.M',\n",
    "     'Particle.PT',\n",
    "     'Particle.Eta',\n",
    "     'Particle.Phi',\n",
    "     'Particle.Rapidity']\n",
    "    events_df = events.pandas.df(branchlist,flatten=True)\n",
    "    \n",
    "    n_events = len(events_df.groupby(level=0))\n",
    "    scale_factor = (xsec*lumiTot)/n_events \n",
    "    \n",
    "    if not normalize:\n",
    "        scale_factor = 1\n",
    "        \n",
    "    print(\"Cross section: \", xsec, \"fb\")\n",
    "    print(\"Number of events: \", n_events)\n",
    "    print(\"Scale factor: \", scale_factor)\n",
    "    nParticles = []\n",
    "    for entry,entry_df in events_df.groupby(level=0):\n",
    "        nParticles.append(len(entry_df))\n",
    "        PIDs = entry_df[[\"Particle.PID\"]].to_numpy()\n",
    "        if not all(elem in PIDs for elem in [6,-6,2212]):\n",
    "            events_df = events_df.drop(entry)\n",
    "            print(\"Dropping entry: \"+str(entry))\n",
    "            \n",
    "    tops = events_df[ events_df[\"Particle.PID\"] == 6]\n",
    "    atops = events_df[ events_df[\"Particle.PID\"] == -6]\n",
    "    tops_lorentzVector = tops[[\"Particle.Px\",\"Particle.Py\",\"Particle.Pz\",\"Particle.E\"]].to_numpy()\n",
    "    atops_lorentzVector = atops[[\"Particle.Px\",\"Particle.Py\",\"Particle.Pz\",\"Particle.E\"]].to_numpy()\n",
    "    ttbars_lorentzVector = tops_lorentzVector + atops_lorentzVector\n",
    "    ttbars_masses = np.sqrt( ttbars_lorentzVector[:,3]**2 - (ttbars_lorentzVector[:,0]**2 + ttbars_lorentzVector[:,1]**2 + ttbars_lorentzVector[:,2]**2) )\n",
    "    protonP = events_df[ (events_df[\"Particle.PID\"] == 2212) & (events_df[\"Particle.Pz\"] > 0) ]\n",
    "    protonN = events_df[ (events_df[\"Particle.PID\"] == 2212) & (events_df[\"Particle.Pz\"] < 0) ]\n",
    "    protonP_xi = (1 - protonP[[\"Particle.Pz\"]].to_numpy()/(sqrt_s/2))[:,0]\n",
    "    protonN_xi = (1 + protonN[[\"Particle.Pz\"]].to_numpy()/(sqrt_s/2))[:,0]\n",
    "    m_total = np.sqrt((sqrt_s**2) * protonP_xi * protonN_xi)\n",
    "    m_frac = ttbars_masses / m_total\n",
    "    \n",
    "    if ax == None:\n",
    "        fig, ax = plt.subplots()\n",
    "    if plot_type == \"nParticles\":\n",
    "        h_nParticles = ax.hist(nParticles, bins=10, label = plot_label, weights = np.ones_like(nParticles) * scale_factor)\n",
    "        plt.xlabel('Number of Particles')\n",
    "    elif plot_type == \"m_tt\":\n",
    "        h_mtt = ax.hist(ttbars_masses, bins=40, label = plot_label, weights = np.ones_like(ttbars_masses) * scale_factor)\n",
    "        plt.xlabel('m_tt (GeV)')\n",
    "    elif plot_type == \"m_total\":\n",
    "        h_m_total = ax.hist(m_total, bins=40, label = plot_label, weights = np.ones_like(m_total) * scale_factor)\n",
    "        plt.xlabel('m_total (GeV)')\n",
    "    elif plot_type == \"m_frac\":\n",
    "        h_m_frac = ax.hist(m_frac, bins=40,histtype='step', fill=None, label = plot_label, weights = np.ones_like(m_frac) * scale_factor)\n",
    "        plt.xlabel('m_frac')\n",
    "    else:\n",
    "        print(\"Plot type not available\")\n",
    "        sys.exit(1)\n"
   ]
  },
  {
   "cell_type": "code",
   "execution_count": 58,
   "metadata": {},
   "outputs": [
    {
     "name": "stdout",
     "output_type": "stream",
     "text": [
      "Cross section:  14.02904124902162 fb\n",
      "Number of events:  10000\n",
      "Scale factor:  0.4208712374706486\n",
      "Dropping entry: 1557\n"
     ]
    },
    {
     "data": {
      "text/plain": [
       "<matplotlib.legend.Legend at 0x7f2aea02f8d0>"
      ]
     },
     "execution_count": 58,
     "metadata": {},
     "output_type": "execute_result"
    },
    {
     "data": {
      "image/png": "[encoded data removed]",
      "text/plain": [
       "<Figure size 432x288 with 1 Axes>"
      ]
     },
     "metadata": {
      "needs_background": "light"
     },
     "output_type": "display_data"
    }
   ],
   "source": [
    "fig, ax = plt.subplots()\n",
    "ttbar_plot(17,\"nParticles\",ax,\"pippo\",True)\n",
    "plt.legend()"
   ]
  },
  {
   "cell_type": "code",
   "execution_count": 66,
   "metadata": {},
   "outputs": [],
   "source": [
    "sim_IDs = [56,57,58,59,60]"
   ]
  },
  {
   "cell_type": "code",
   "execution_count": 67,
   "metadata": {},
   "outputs": [
    {
     "name": "stdout",
     "output_type": "stream",
     "text": [
      "Analyzing ID: 56 GLU_NU =  -1.0\n",
      "Cross section:  59.62123753685284 fb\n",
      "Number of events:  10000\n",
      "Scale factor:  1.7886371261055851\n",
      "\n",
      "Analyzing ID: 57 GLU_NU =  -0.5\n",
      "Cross section:  26.440797678723612 fb\n",
      "Number of events:  10000\n",
      "Scale factor:  0.7932239303617084\n",
      "Dropping entry: 1018\n",
      "\n",
      "Analyzing ID: 58 GLU_NU =  0.0\n",
      "Cross section:  14.02904124902162 fb\n",
      "Number of events:  10000\n",
      "Scale factor:  0.4208712374706486\n",
      "Dropping entry: 1557\n",
      "\n",
      "Analyzing ID: 59 GLU_NU =  0.5\n",
      "Cross section:  8.415893843933059 fb\n",
      "Number of events:  10000\n",
      "Scale factor:  0.25247681531799177\n",
      "Dropping entry: 2919\n",
      "\n",
      "Analyzing ID: 60 GLU_NU =  1.0\n",
      "Cross section:  5.573340265560713 fb\n",
      "Number of events:  10000\n",
      "Scale factor:  0.1672002079668214\n",
      "Dropping entry: 2279\n",
      "\n"
     ]
    },
    {
     "data": {
      "text/plain": [
       "<matplotlib.legend.Legend at 0x7f2aea9f0cd0>"
      ]
     },
     "execution_count": 67,
     "metadata": {},
     "output_type": "execute_result"
    },
    {
     "data": {
      "image/png": "[encoded data removed]",
      "text/plain": [
       "<Figure size 432x288 with 1 Axes>"
      ]
     },
     "metadata": {
      "needs_background": "light"
     },
     "output_type": "display_data"
    }
   ],
   "source": [
    "fig, ax = plt.subplots()\n",
    "for ID in sim_IDs:\n",
    "    summaryfile_path = \"LOG/\"+str(ID)+\"/\"\n",
    "    with open(summaryfile_path+\"Summary.txt\") as dc:\n",
    "            for line in dc: \n",
    "                if line.startswith(\"GLU_NU\"):\n",
    "                    GLU_NU = float(line.split()[1])\n",
    "    print(\"Analyzing ID:\",ID, \"GLU_NU = \", GLU_NU)\n",
    "    ttbar_plot(ID,\"m_frac\",ax, \"GLU_NU = {:.2f}\".format(GLU_NU),normalize = True)\n",
    "    print()\n",
    "plt.legend()"
   ]
  },
  {
   "cell_type": "code",
   "execution_count": null,
   "metadata": {},
   "outputs": [],
   "source": []
  }
 ],
 "metadata": {
  "kernelspec": {
   "display_name": "Python 3",
   "language": "python",
   "name": "python3"
  },
  "language_info": {
   "codemirror_mode": {
    "name": "ipython",
    "version": 3
   },
   "file_extension": ".py",
   "mimetype": "text/x-python",
   "name": "python",
   "nbconvert_exporter": "python",
   "pygments_lexer": "ipython3",
   "version": "3.8.6"
  }
 },
 "nbformat": 4,
 "nbformat_minor": 4
}
