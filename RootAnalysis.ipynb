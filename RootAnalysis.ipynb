{
 "cells": [
  {
   "cell_type": "code",
   "execution_count": 37,
   "metadata": {},
   "outputs": [],
   "source": [
    "import uproot\n",
    "import sys\n",
    "import os\n",
    "import pandas as pd\n",
    "import numpy as np\n",
    "import matplotlib.pyplot as plt"
   ]
  },
  {
   "cell_type": "code",
   "execution_count": 38,
   "metadata": {},
   "outputs": [],
   "source": [
    "rootfile_path = \"ROOT/17/\"\n",
    "rootfile_filepath = rootfile_path+os.listdir(rootfile_path)[0]\n",
    "rootfile = uproot.open(rootfile_filepath)"
   ]
  },
  {
   "cell_type": "code",
   "execution_count": 39,
   "metadata": {},
   "outputs": [],
   "source": [
    "sqrt_s = 14000 "
   ]
  },
  {
   "cell_type": "code",
   "execution_count": 40,
   "metadata": {},
   "outputs": [],
   "source": [
    "events = rootfile[\"LHEF\"]"
   ]
  },
  {
   "cell_type": "code",
   "execution_count": 41,
   "metadata": {},
   "outputs": [
    {
     "data": {
      "text/html": [
       "<div>\n",
       "<style scoped>\n",
       "    .dataframe tbody tr th:only-of-type {\n",
       "        vertical-align: middle;\n",
       "    }\n",
       "\n",
       "    .dataframe tbody tr th {\n",
       "        vertical-align: top;\n",
       "    }\n",
       "\n",
       "    .dataframe thead th {\n",
       "        text-align: right;\n",
       "    }\n",
       "</style>\n",
       "<table border=\"1\" class=\"dataframe\">\n",
       "  <thead>\n",
       "    <tr style=\"text-align: right;\">\n",
       "      <th></th>\n",
       "      <th></th>\n",
       "      <th>Particle.PID</th>\n",
       "      <th>Particle.Px</th>\n",
       "      <th>Particle.Py</th>\n",
       "      <th>Particle.Pz</th>\n",
       "      <th>Particle.E</th>\n",
       "      <th>Particle.M</th>\n",
       "      <th>Particle.PT</th>\n",
       "      <th>Particle.Eta</th>\n",
       "      <th>Particle.Phi</th>\n",
       "      <th>Particle.Rapidity</th>\n",
       "    </tr>\n",
       "    <tr>\n",
       "      <th>entry</th>\n",
       "      <th>subentry</th>\n",
       "      <th></th>\n",
       "      <th></th>\n",
       "      <th></th>\n",
       "      <th></th>\n",
       "      <th></th>\n",
       "      <th></th>\n",
       "      <th></th>\n",
       "      <th></th>\n",
       "      <th></th>\n",
       "      <th></th>\n",
       "    </tr>\n",
       "  </thead>\n",
       "  <tbody>\n",
       "    <tr>\n",
       "      <th rowspan=\"4\" valign=\"top\">0</th>\n",
       "      <th>0</th>\n",
       "      <td>2212</td>\n",
       "      <td>0.566003</td>\n",
       "      <td>0.004495</td>\n",
       "      <td>6518.521900</td>\n",
       "      <td>6518.52190</td>\n",
       "      <td>0.93827</td>\n",
       "      <td>0.566021</td>\n",
       "      <td>10.044674</td>\n",
       "      <td>0.007942</td>\n",
       "      <td>inf</td>\n",
       "    </tr>\n",
       "    <tr>\n",
       "      <th>1</th>\n",
       "      <td>2212</td>\n",
       "      <td>-0.106344</td>\n",
       "      <td>0.407668</td>\n",
       "      <td>-6220.121100</td>\n",
       "      <td>6220.12110</td>\n",
       "      <td>0.93827</td>\n",
       "      <td>0.421310</td>\n",
       "      <td>-10.293078</td>\n",
       "      <td>1.825968</td>\n",
       "      <td>-inf</td>\n",
       "    </tr>\n",
       "    <tr>\n",
       "      <th>2</th>\n",
       "      <td>6</td>\n",
       "      <td>-22.362287</td>\n",
       "      <td>-154.840540</td>\n",
       "      <td>-18.759520</td>\n",
       "      <td>234.96399</td>\n",
       "      <td>174.30000</td>\n",
       "      <td>156.447003</td>\n",
       "      <td>-0.119624</td>\n",
       "      <td>-1.714226</td>\n",
       "      <td>-0.080010</td>\n",
       "    </tr>\n",
       "    <tr>\n",
       "      <th>3</th>\n",
       "      <td>-6</td>\n",
       "      <td>22.182669</td>\n",
       "      <td>154.682300</td>\n",
       "      <td>-93.087673</td>\n",
       "      <td>251.92160</td>\n",
       "      <td>174.30000</td>\n",
       "      <td>156.264790</td>\n",
       "      <td>-0.565138</td>\n",
       "      <td>1.428360</td>\n",
       "      <td>-0.387856</td>\n",
       "    </tr>\n",
       "    <tr>\n",
       "      <th>1</th>\n",
       "      <th>0</th>\n",
       "      <td>2212</td>\n",
       "      <td>0.102940</td>\n",
       "      <td>-0.249918</td>\n",
       "      <td>6787.584800</td>\n",
       "      <td>6787.58480</td>\n",
       "      <td>0.93827</td>\n",
       "      <td>0.270288</td>\n",
       "      <td>10.824265</td>\n",
       "      <td>-1.180079</td>\n",
       "      <td>inf</td>\n",
       "    </tr>\n",
       "  </tbody>\n",
       "</table>\n",
       "</div>"
      ],
      "text/plain": [
       "                Particle.PID  Particle.Px  Particle.Py  Particle.Pz  \\\n",
       "entry subentry                                                        \n",
       "0     0                 2212     0.566003     0.004495  6518.521900   \n",
       "      1                 2212    -0.106344     0.407668 -6220.121100   \n",
       "      2                    6   -22.362287  -154.840540   -18.759520   \n",
       "      3                   -6    22.182669   154.682300   -93.087673   \n",
       "1     0                 2212     0.102940    -0.249918  6787.584800   \n",
       "\n",
       "                Particle.E  Particle.M  Particle.PT  Particle.Eta  \\\n",
       "entry subentry                                                      \n",
       "0     0         6518.52190     0.93827     0.566021     10.044674   \n",
       "      1         6220.12110     0.93827     0.421310    -10.293078   \n",
       "      2          234.96399   174.30000   156.447003     -0.119624   \n",
       "      3          251.92160   174.30000   156.264790     -0.565138   \n",
       "1     0         6787.58480     0.93827     0.270288     10.824265   \n",
       "\n",
       "                Particle.Phi  Particle.Rapidity  \n",
       "entry subentry                                   \n",
       "0     0             0.007942                inf  \n",
       "      1             1.825968               -inf  \n",
       "      2            -1.714226          -0.080010  \n",
       "      3             1.428360          -0.387856  \n",
       "1     0            -1.180079                inf  "
      ]
     },
     "execution_count": 41,
     "metadata": {},
     "output_type": "execute_result"
    }
   ],
   "source": [
    "branchlist = [\n",
    " 'Particle.PID',\n",
    " 'Particle.Px',\n",
    " 'Particle.Py',\n",
    " 'Particle.Pz',\n",
    " 'Particle.E',\n",
    " 'Particle.M',\n",
    " 'Particle.PT',\n",
    " 'Particle.Eta',\n",
    " 'Particle.Phi',\n",
    " 'Particle.Rapidity']\n",
    "events_df = events.pandas.df(branchlist,flatten=True)\n",
    "events_df.head()"
   ]
  },
  {
   "cell_type": "code",
   "execution_count": 42,
   "metadata": {},
   "outputs": [
    {
     "name": "stdout",
     "output_type": "stream",
     "text": [
      "[[2212]\n",
      " [2212]\n",
      " [   1]\n",
      " [  -1]]\n",
      "Dropping entry: 1557\n"
     ]
    }
   ],
   "source": [
    "nParticles = []\n",
    "for entry,entry_df in events_df.groupby(level=0):\n",
    "    nParticles.append(len(entry_df))\n",
    "    PIDs = entry_df[[\"Particle.PID\"]].to_numpy()\n",
    "    if not all(elem in PIDs for elem in [6,-6,2212]):\n",
    "        print(PIDs)\n",
    "        events_df = events_df.drop(entry)\n",
    "        print(\"Dropping entry: \"+str(entry))"
   ]
  },
  {
   "cell_type": "code",
   "execution_count": 43,
   "metadata": {
    "scrolled": true
   },
   "outputs": [],
   "source": [
    "tops = events_df[ events_df[\"Particle.PID\"] == 6]\n",
    "atops = events_df[ events_df[\"Particle.PID\"] == -6]"
   ]
  },
  {
   "cell_type": "code",
   "execution_count": 44,
   "metadata": {},
   "outputs": [],
   "source": [
    "tops_lorentzVector = tops[[\"Particle.Px\",\"Particle.Py\",\"Particle.Pz\",\"Particle.E\"]].to_numpy()\n",
    "atops_lorentzVector = atops[[\"Particle.Px\",\"Particle.Py\",\"Particle.Pz\",\"Particle.E\"]].to_numpy()\n"
   ]
  },
  {
   "cell_type": "code",
   "execution_count": 45,
   "metadata": {},
   "outputs": [],
   "source": [
    "ttbars_lorentzVector = tops_lorentzVector + atops_lorentzVector"
   ]
  },
  {
   "cell_type": "code",
   "execution_count": 46,
   "metadata": {},
   "outputs": [],
   "source": [
    "ttbars_masses = np.sqrt( ttbars_lorentzVector[:,3]**2 - (ttbars_lorentzVector[:,0]**2 + ttbars_lorentzVector[:,1]**2 + ttbars_lorentzVector[:,2]**2) )"
   ]
  },
  {
   "cell_type": "markdown",
   "metadata": {},
   "source": [
    "## Plot number of particles"
   ]
  },
  {
   "cell_type": "code",
   "execution_count": 47,
   "metadata": {},
   "outputs": [
    {
     "data": {
      "text/plain": [
       "Text(0.5, 0, 'Number of Particles')"
      ]
     },
     "execution_count": 47,
     "metadata": {},
     "output_type": "execute_result"
    },
    {
     "data": {
      "image/png": "[encoded data removed]",
      "text/plain": [
       "<Figure size 432x288 with 1 Axes>"
      ]
     },
     "metadata": {
      "needs_background": "light"
     },
     "output_type": "display_data"
    }
   ],
   "source": [
    "fig, ax = plt.subplots()\n",
    "h_mtt =ax.hist(nParticles, bins=10)\n",
    "plt.xlabel('Number of Particles')"
   ]
  },
  {
   "cell_type": "markdown",
   "metadata": {},
   "source": [
    "## Plot m_tt"
   ]
  },
  {
   "cell_type": "code",
   "execution_count": 48,
   "metadata": {},
   "outputs": [
    {
     "data": {
      "text/plain": [
       "Text(0.5, 0, 'm_tt (GeV)')"
      ]
     },
     "execution_count": 48,
     "metadata": {},
     "output_type": "execute_result"
    },
    {
     "data": {
      "image/png": "[encoded data removed]",
      "text/plain": [
       "<Figure size 432x288 with 1 Axes>"
      ]
     },
     "metadata": {
      "needs_background": "light"
     },
     "output_type": "display_data"
    }
   ],
   "source": [
    "fig, ax = plt.subplots()\n",
    "h_mtt =ax.hist(ttbars_masses, bins=40)\n",
    "plt.xlabel('m_tt (GeV)')"
   ]
  },
  {
   "cell_type": "code",
   "execution_count": 49,
   "metadata": {},
   "outputs": [],
   "source": [
    "protonP = events_df[ (events_df[\"Particle.PID\"] == 2212) & (events_df[\"Particle.Pz\"] > 0) ]\n",
    "protonN = events_df[ (events_df[\"Particle.PID\"] == 2212) & (events_df[\"Particle.Pz\"] < 0) ]"
   ]
  },
  {
   "cell_type": "code",
   "execution_count": 50,
   "metadata": {},
   "outputs": [],
   "source": [
    "protonP_xi = (1 - protonP[[\"Particle.Pz\"]].to_numpy()/(sqrt_s/2))[:,0]\n",
    "protonN_xi = (1 + protonN[[\"Particle.Pz\"]].to_numpy()/(sqrt_s/2))[:,0]"
   ]
  },
  {
   "cell_type": "code",
   "execution_count": 51,
   "metadata": {},
   "outputs": [],
   "source": [
    "m_total = np.sqrt((sqrt_s**2) * protonP_xi * protonN_xi)"
   ]
  },
  {
   "cell_type": "markdown",
   "metadata": {},
   "source": [
    "## Plot m_total"
   ]
  },
  {
   "cell_type": "code",
   "execution_count": 52,
   "metadata": {},
   "outputs": [
    {
     "data": {
      "text/plain": [
       "Text(0.5, 0, 'm_total (GeV)')"
      ]
     },
     "execution_count": 52,
     "metadata": {},
     "output_type": "execute_result"
    },
    {
     "data": {
      "image/png": "[encoded data removed]",
      "text/plain": [
       "<Figure size 432x288 with 1 Axes>"
      ]
     },
     "metadata": {
      "needs_background": "light"
     },
     "output_type": "display_data"
    }
   ],
   "source": [
    "fig, ax = plt.subplots()\n",
    "h_m_total =ax.hist(m_total, bins=40)\n",
    "plt.xlabel('m_total (GeV)')"
   ]
  },
  {
   "cell_type": "code",
   "execution_count": 53,
   "metadata": {},
   "outputs": [],
   "source": [
    "m_frac = ttbars_masses / m_total"
   ]
  },
  {
   "cell_type": "markdown",
   "metadata": {},
   "source": [
    "## Plot m_frac (a.k.a. sqrt(beta_1*beta_2)"
   ]
  },
  {
   "cell_type": "code",
   "execution_count": 54,
   "metadata": {},
   "outputs": [
    {
     "data": {
      "text/plain": [
       "Text(0.5, 0, 'm_frac')"
      ]
     },
     "execution_count": 54,
     "metadata": {},
     "output_type": "execute_result"
    },
    {
     "data": {
      "image/png": "[encoded data removed]",
      "text/plain": [
       "<Figure size 432x288 with 1 Axes>"
      ]
     },
     "metadata": {
      "needs_background": "light"
     },
     "output_type": "display_data"
    }
   ],
   "source": [
    "fig, ax = plt.subplots()\n",
    "h_m_frac =ax.hist(m_frac, bins=40)\n",
    "plt.xlabel('m_frac')"
   ]
  }
 ],
 "metadata": {
  "kernelspec": {
   "display_name": "Python 3",
   "language": "python",
   "name": "python3"
  },
  "language_info": {
   "codemirror_mode": {
    "name": "ipython",
    "version": 3
   },
   "file_extension": ".py",
   "mimetype": "text/x-python",
   "name": "python",
   "nbconvert_exporter": "python",
   "pygments_lexer": "ipython3",
   "version": "3.7.6"
  }
 },
 "nbformat": 4,
 "nbformat_minor": 4
}
